{
 "cells": [
  {
   "cell_type": "markdown",
   "id": "eff96419",
   "metadata": {},
   "source": [
    "# Config"
   ]
  },
  {
   "cell_type": "code",
   "execution_count": 15,
   "id": "13a77f1a",
   "metadata": {},
   "outputs": [],
   "source": [
    "# Libraries\n",
    "import geopandas as gpd\n",
    "from config import INTERIM_DATA_DIR,PROCESSED_DATA_DIR"
   ]
  },
  {
   "cell_type": "code",
   "execution_count": 31,
   "id": "a32c31f6",
   "metadata": {},
   "outputs": [],
   "source": [
    "# Params\n",
    "CITY = \"barcelona\"\n",
    "RES = 10\n",
    "\n",
    "datasets = {\n",
    "    # \"ndvi_data\": \"Points\",\n",
    "    \"overture_places\": \"Points\"\n",
    "}"
   ]
  },
  {
   "cell_type": "markdown",
   "id": "a845f693",
   "metadata": {},
   "source": [
    "# Load data"
   ]
  },
  {
   "cell_type": "code",
   "execution_count": 43,
   "id": "94f2cc2c",
   "metadata": {},
   "outputs": [
    {
     "data": {
      "text/html": [
       "<div>\n",
       "<style scoped>\n",
       "    .dataframe tbody tr th:only-of-type {\n",
       "        vertical-align: middle;\n",
       "    }\n",
       "\n",
       "    .dataframe tbody tr th {\n",
       "        vertical-align: top;\n",
       "    }\n",
       "\n",
       "    .dataframe thead th {\n",
       "        text-align: right;\n",
       "    }\n",
       "</style>\n",
       "<table border=\"1\" class=\"dataframe\">\n",
       "  <thead>\n",
       "    <tr style=\"text-align: right;\">\n",
       "      <th></th>\n",
       "      <th>h3_id</th>\n",
       "      <th>geometry</th>\n",
       "    </tr>\n",
       "  </thead>\n",
       "  <tbody>\n",
       "    <tr>\n",
       "      <th>0</th>\n",
       "      <td>8a394461b98ffff</td>\n",
       "      <td>POLYGON ((430592.392 4576915.43, 430577.5 4576...</td>\n",
       "    </tr>\n",
       "    <tr>\n",
       "      <th>1</th>\n",
       "      <td>8a394461b92ffff</td>\n",
       "      <td>POLYGON ((430681.742 4577368.251, 430666.851 4...</td>\n",
       "    </tr>\n",
       "    <tr>\n",
       "      <th>2</th>\n",
       "      <td>8a394461b91ffff</td>\n",
       "      <td>POLYGON ((430637.067 4577141.842, 430622.176 4...</td>\n",
       "    </tr>\n",
       "    <tr>\n",
       "      <th>3</th>\n",
       "      <td>8a394461b90ffff</td>\n",
       "      <td>POLYGON ((430722.225 4577245.969, 430707.333 4...</td>\n",
       "    </tr>\n",
       "    <tr>\n",
       "      <th>4</th>\n",
       "      <td>8a39446f4b1ffff</td>\n",
       "      <td>POLYGON ((430607.72 4574700.8, 430592.828 4574...</td>\n",
       "    </tr>\n",
       "  </tbody>\n",
       "</table>\n",
       "</div>"
      ],
      "text/plain": [
       "             h3_id                                           geometry\n",
       "0  8a394461b98ffff  POLYGON ((430592.392 4576915.43, 430577.5 4576...\n",
       "1  8a394461b92ffff  POLYGON ((430681.742 4577368.251, 430666.851 4...\n",
       "2  8a394461b91ffff  POLYGON ((430637.067 4577141.842, 430622.176 4...\n",
       "3  8a394461b90ffff  POLYGON ((430722.225 4577245.969, 430707.333 4...\n",
       "4  8a39446f4b1ffff  POLYGON ((430607.72 4574700.8, 430592.828 4574..."
      ]
     },
     "execution_count": 43,
     "metadata": {},
     "output_type": "execute_result"
    }
   ],
   "source": [
    "gdf_h3 = gpd.read_parquet(INTERIM_DATA_DIR/f\"{CITY}_h3_res{RES}.parquet\")\n",
    "gdf_h3.head()"
   ]
  },
  {
   "cell_type": "code",
   "execution_count": 54,
   "id": "0d7e5e39",
   "metadata": {},
   "outputs": [
    {
     "data": {
      "text/html": [
       "<div>\n",
       "<style scoped>\n",
       "    .dataframe tbody tr th:only-of-type {\n",
       "        vertical-align: middle;\n",
       "    }\n",
       "\n",
       "    .dataframe tbody tr th {\n",
       "        vertical-align: top;\n",
       "    }\n",
       "\n",
       "    .dataframe thead th {\n",
       "        text-align: right;\n",
       "    }\n",
       "</style>\n",
       "<table border=\"1\" class=\"dataframe\">\n",
       "  <thead>\n",
       "    <tr style=\"text-align: right;\">\n",
       "      <th></th>\n",
       "      <th>h3_id</th>\n",
       "      <th>category</th>\n",
       "      <th>count</th>\n",
       "    </tr>\n",
       "  </thead>\n",
       "  <tbody>\n",
       "    <tr>\n",
       "      <th>0</th>\n",
       "      <td>8a3944600007fff</td>\n",
       "      <td>architectural_design_service</td>\n",
       "      <td>2</td>\n",
       "    </tr>\n",
       "    <tr>\n",
       "      <th>1</th>\n",
       "      <td>8a3944600007fff</td>\n",
       "      <td>bakery</td>\n",
       "      <td>1</td>\n",
       "    </tr>\n",
       "    <tr>\n",
       "      <th>2</th>\n",
       "      <td>8a3944600007fff</td>\n",
       "      <td>beauty_salon</td>\n",
       "      <td>2</td>\n",
       "    </tr>\n",
       "    <tr>\n",
       "      <th>3</th>\n",
       "      <td>8a3944600007fff</td>\n",
       "      <td>christian_place_of_worship</td>\n",
       "      <td>3</td>\n",
       "    </tr>\n",
       "    <tr>\n",
       "      <th>4</th>\n",
       "      <td>8a3944600007fff</td>\n",
       "      <td>clothing_store</td>\n",
       "      <td>1</td>\n",
       "    </tr>\n",
       "  </tbody>\n",
       "</table>\n",
       "</div>"
      ],
      "text/plain": [
       "             h3_id                      category  count\n",
       "0  8a3944600007fff  architectural_design_service      2\n",
       "1  8a3944600007fff                        bakery      1\n",
       "2  8a3944600007fff                  beauty_salon      2\n",
       "3  8a3944600007fff    christian_place_of_worship      3\n",
       "4  8a3944600007fff                clothing_store      1"
      ]
     },
     "execution_count": 54,
     "metadata": {},
     "output_type": "execute_result"
    }
   ],
   "source": [
    "gdf = gpd.read_parquet(INTERIM_DATA_DIR / \"overture_places.parquet\")\n",
    "gdf.to_crs(gdf_h3.crs, inplace=True)\n",
    "\n",
    "gdf = gpd.sjoin(gdf, gdf_h3[[ \"h3_id\", \"geometry\"]], how=\"left\", predicate=\"within\")\n",
    "results = gdf.groupby([\"h3_id\",\"category\"]).size().reset_index(name=\"count\")\n",
    "results.head()"
   ]
  },
  {
   "cell_type": "markdown",
   "id": "fc2bb888",
   "metadata": {},
   "source": [
    "# Data management (Code)"
   ]
  },
  {
   "cell_type": "code",
   "execution_count": 44,
   "id": "4c250296",
   "metadata": {},
   "outputs": [
    {
     "name": "stdout",
     "output_type": "stream",
     "text": [
      "Aggregating overture_places into H3 resolution 10...\n",
      "Completed aggregation for overture_places.\n"
     ]
    }
   ],
   "source": [
    "#Main body of code\n",
    "for dataset,format in datasets.items():\n",
    "    print(f\"Aggregating {dataset} into H3 resolution {RES}...\")\n",
    "    # gdf = gpd.read_parquet(INTERIM_DATA_DIR/f\"{CITY}_{dataset}.parquet\")\n",
    "    gdf = gpd.read_parquet(INTERIM_DATA_DIR/f\"{dataset}.parquet\")\n",
    "\n",
    "    if format == \"Points\":\n",
    "        # Ensure same CRS\n",
    "        if gdf.crs is None:\n",
    "            raise ValueError(f\"{dataset} has no CRS defined\")\n",
    "        if gdf.crs != gdf_h3.crs:\n",
    "            gdf = gdf.to_crs(gdf_h3.crs)\n",
    "\n",
    "        # Spatial join points -> H3 polygons to assign h3_id\n",
    "        try:\n",
    "            gdf_pts = gpd.sjoin(gdf, gdf_h3[['h3_id', 'geometry']], how='left', predicate='within')        \n",
    "        except TypeError:\n",
    "            gdf_pts = gpd.sjoin(gdf_h3[['h3_id', 'geometry']],gdf, how='left', op='within')\n",
    "\n",
    "        # Drop points not matched to any H3 cell and count points per h3_id\n",
    "        gdf_pts = gdf_pts.dropna(subset=['h3_id'])\n",
    "        gdf_agg = gdf_pts.groupby('h3_id').size().reset_index(name='count')\n",
    "    elif format == \"Polygons\":\n",
    "        gdf_poly = gpd.overlay(gdf_h3, gdf, how='intersection')\n",
    "        gdf_agg = gdf_poly.groupby('h3_id').agg({'some_field': 'sum'}).reset_index()\n",
    "    \n",
    "    gdf_h3 = gdf_h3.merge(gdf_agg, on=\"h3_id\", how=\"left\")\n",
    "    # gdf_h3['count'] = gdf_h3['count'].fillna(0)\n",
    "    \n",
    "    print(f\"Completed aggregation for {dataset}.\")"
   ]
  },
  {
   "cell_type": "code",
   "execution_count": 45,
   "id": "2f1262c1",
   "metadata": {},
   "outputs": [
    {
     "data": {
      "text/html": [
       "<div>\n",
       "<style scoped>\n",
       "    .dataframe tbody tr th:only-of-type {\n",
       "        vertical-align: middle;\n",
       "    }\n",
       "\n",
       "    .dataframe tbody tr th {\n",
       "        vertical-align: top;\n",
       "    }\n",
       "\n",
       "    .dataframe thead th {\n",
       "        text-align: right;\n",
       "    }\n",
       "</style>\n",
       "<table border=\"1\" class=\"dataframe\">\n",
       "  <thead>\n",
       "    <tr style=\"text-align: right;\">\n",
       "      <th></th>\n",
       "      <th>h3_id</th>\n",
       "      <th>geometry</th>\n",
       "      <th>count</th>\n",
       "    </tr>\n",
       "  </thead>\n",
       "  <tbody>\n",
       "    <tr>\n",
       "      <th>0</th>\n",
       "      <td>8a394461b98ffff</td>\n",
       "      <td>POLYGON ((430592.392 4576915.43, 430577.5 4576...</td>\n",
       "      <td>NaN</td>\n",
       "    </tr>\n",
       "    <tr>\n",
       "      <th>1</th>\n",
       "      <td>8a394461b92ffff</td>\n",
       "      <td>POLYGON ((430681.742 4577368.251, 430666.851 4...</td>\n",
       "      <td>NaN</td>\n",
       "    </tr>\n",
       "    <tr>\n",
       "      <th>2</th>\n",
       "      <td>8a394461b91ffff</td>\n",
       "      <td>POLYGON ((430637.067 4577141.842, 430622.176 4...</td>\n",
       "      <td>NaN</td>\n",
       "    </tr>\n",
       "    <tr>\n",
       "      <th>3</th>\n",
       "      <td>8a394461b90ffff</td>\n",
       "      <td>POLYGON ((430722.225 4577245.969, 430707.333 4...</td>\n",
       "      <td>NaN</td>\n",
       "    </tr>\n",
       "    <tr>\n",
       "      <th>4</th>\n",
       "      <td>8a39446f4b1ffff</td>\n",
       "      <td>POLYGON ((430607.72 4574700.8, 430592.828 4574...</td>\n",
       "      <td>NaN</td>\n",
       "    </tr>\n",
       "    <tr>\n",
       "      <th>...</th>\n",
       "      <td>...</td>\n",
       "      <td>...</td>\n",
       "      <td>...</td>\n",
       "    </tr>\n",
       "    <tr>\n",
       "      <th>6915</th>\n",
       "      <td>8a394463016ffff</td>\n",
       "      <td>POLYGON ((421721.842 4585294.905, 421706.946 4...</td>\n",
       "      <td>NaN</td>\n",
       "    </tr>\n",
       "    <tr>\n",
       "      <th>6916</th>\n",
       "      <td>8a394463542ffff</td>\n",
       "      <td>POLYGON ((421904.893 4586548.056, 421889.997 4...</td>\n",
       "      <td>NaN</td>\n",
       "    </tr>\n",
       "    <tr>\n",
       "      <th>6917</th>\n",
       "      <td>8a39446342affff</td>\n",
       "      <td>POLYGON ((420896.783 4586344.359, 420881.886 4...</td>\n",
       "      <td>NaN</td>\n",
       "    </tr>\n",
       "    <tr>\n",
       "      <th>6918</th>\n",
       "      <td>8a3944635497fff</td>\n",
       "      <td>POLYGON ((421604.946 4586009.684, 421590.05 45...</td>\n",
       "      <td>NaN</td>\n",
       "    </tr>\n",
       "    <tr>\n",
       "      <th>6919</th>\n",
       "      <td>8a3944630967fff</td>\n",
       "      <td>POLYGON ((421313.594 4586167.985, 421298.698 4...</td>\n",
       "      <td>NaN</td>\n",
       "    </tr>\n",
       "  </tbody>\n",
       "</table>\n",
       "<p>6920 rows × 3 columns</p>\n",
       "</div>"
      ],
      "text/plain": [
       "                h3_id                                           geometry  \\\n",
       "0     8a394461b98ffff  POLYGON ((430592.392 4576915.43, 430577.5 4576...   \n",
       "1     8a394461b92ffff  POLYGON ((430681.742 4577368.251, 430666.851 4...   \n",
       "2     8a394461b91ffff  POLYGON ((430637.067 4577141.842, 430622.176 4...   \n",
       "3     8a394461b90ffff  POLYGON ((430722.225 4577245.969, 430707.333 4...   \n",
       "4     8a39446f4b1ffff  POLYGON ((430607.72 4574700.8, 430592.828 4574...   \n",
       "...               ...                                                ...   \n",
       "6915  8a394463016ffff  POLYGON ((421721.842 4585294.905, 421706.946 4...   \n",
       "6916  8a394463542ffff  POLYGON ((421904.893 4586548.056, 421889.997 4...   \n",
       "6917  8a39446342affff  POLYGON ((420896.783 4586344.359, 420881.886 4...   \n",
       "6918  8a3944635497fff  POLYGON ((421604.946 4586009.684, 421590.05 45...   \n",
       "6919  8a3944630967fff  POLYGON ((421313.594 4586167.985, 421298.698 4...   \n",
       "\n",
       "      count  \n",
       "0       NaN  \n",
       "1       NaN  \n",
       "2       NaN  \n",
       "3       NaN  \n",
       "4       NaN  \n",
       "...     ...  \n",
       "6915    NaN  \n",
       "6916    NaN  \n",
       "6917    NaN  \n",
       "6918    NaN  \n",
       "6919    NaN  \n",
       "\n",
       "[6920 rows x 3 columns]"
      ]
     },
     "execution_count": 45,
     "metadata": {},
     "output_type": "execute_result"
    }
   ],
   "source": [
    "gdf_h3"
   ]
  },
  {
   "cell_type": "markdown",
   "id": "8ec8f5b5",
   "metadata": {},
   "source": [
    "# Plots"
   ]
  },
  {
   "cell_type": "code",
   "execution_count": 3,
   "id": "99dc91d6",
   "metadata": {},
   "outputs": [],
   "source": [
    "# Plots and visualizations"
   ]
  },
  {
   "cell_type": "markdown",
   "id": "92093d2e",
   "metadata": {},
   "source": [
    "# Save results"
   ]
  },
  {
   "cell_type": "code",
   "execution_count": 5,
   "id": "b078d145",
   "metadata": {},
   "outputs": [],
   "source": [
    "#Save results and figures"
   ]
  }
 ],
 "metadata": {
  "kernelspec": {
   "display_name": "reallocate-ai",
   "language": "python",
   "name": "python3"
  },
  "language_info": {
   "codemirror_mode": {
    "name": "ipython",
    "version": 3
   },
   "file_extension": ".py",
   "mimetype": "text/x-python",
   "name": "python",
   "nbconvert_exporter": "python",
   "pygments_lexer": "ipython3",
   "version": "3.11.11"
  }
 },
 "nbformat": 4,
 "nbformat_minor": 5
}
