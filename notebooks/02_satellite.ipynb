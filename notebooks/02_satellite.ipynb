{
 "cells": [
  {
   "cell_type": "markdown",
   "id": "eff96419",
   "metadata": {},
   "source": [
    "# Config"
   ]
  },
  {
   "cell_type": "code",
   "execution_count": 1,
   "id": "13a77f1a",
   "metadata": {},
   "outputs": [],
   "source": [
    "# Libraries\n",
    "import planetary_computer\n",
    "import pystac_client\n",
    "import stackstac\n",
    "import rasterio.plot\n",
    "import matplotlib.pyplot as plt\n",
    "import xarray as xr\n",
    "import pandas as pd\n",
    "import geopandas as gpd\n",
    "from pathlib import Path \n",
    "from config import INTERIM_DATA_DIR"
   ]
  },
  {
   "cell_type": "code",
   "execution_count": 2,
   "id": "9f59e1d0",
   "metadata": {
    "tags": [
     "parameters"
    ]
   },
   "outputs": [],
   "source": [
    "# Params\n",
    "# Define bounding box (lon/lat) change this as necessary - per pilot? per city?\n",
    "bbox = [2.10, 41.35, 2.25, 41.45]"
   ]
  },
  {
   "cell_type": "markdown",
   "id": "a845f693",
   "metadata": {},
   "source": [
    "# Get data"
   ]
  },
  {
   "cell_type": "code",
   "execution_count": 3,
   "id": "94f2cc2c",
   "metadata": {},
   "outputs": [],
   "source": [
    "# Connect to Planetary Computer STAC\n",
    "catalog = pystac_client.Client.open(\"https://planetarycomputer.microsoft.com/api/stac/v1\")\n",
    "\n",
    "# Search Sentinel-2 L2A - dates can be adjusted as necessary\n",
    "search = catalog.search(\n",
    "    collections=[\"sentinel-2-l2a\"], # Sentinel-2 Level 2A collection\n",
    "    bbox=bbox,\n",
    "    datetime=\"2025-01-01/2025-07-31\", # adjust dates as necessary\n",
    "    query={\"eo:cloud_cover\": {\"lt\": 10}} # filter for low cloud cover\n",
    ")\n",
    "\n",
    "items = [planetary_computer.sign(item) for item in search.items()] # Sign items for access (neccesary for selecting viable data)"
   ]
  },
  {
   "cell_type": "markdown",
   "id": "fc2bb888",
   "metadata": {},
   "source": [
    "# Data management (Code)"
   ]
  },
  {
   "cell_type": "code",
   "execution_count": 4,
   "id": "4c250296",
   "metadata": {},
   "outputs": [],
   "source": [
    "# Stack and compute NDVI\n",
    "stack = stackstac.stack(items, assets=[\"B04\", \"B08\"], bounds_latlon=bbox, epsg=4326) # Load the bands into dask array\n",
    "red = stack.sel(band=\"B04\").mean(\"time\")\n",
    "nir = stack.sel(band=\"B08\").mean(\"time\")\n",
    "ndvi = (nir - red) / (nir + red) # NDVI calculation\n",
    "ndvi_local = ndvi.compute()\n"
   ]
  },
  {
   "cell_type": "code",
   "execution_count": 5,
   "id": "257838c6",
   "metadata": {},
   "outputs": [],
   "source": [
    "# Convert to DataFrame for further analysis\n",
    "df = ndvi_local.to_dataframe().reset_index() \n",
    "gdf = gpd.GeoDataFrame(df, geometry=gpd.points_from_xy(df['x'], df['y']), crs=\"EPSG:4326\")\n",
    "gdf = gdf.rename(columns={col: \"NDVI\" for col in gdf.columns if col.startswith(\"stackstac\")})"
   ]
  },
  {
   "cell_type": "markdown",
   "id": "8ec8f5b5",
   "metadata": {},
   "source": [
    "# Plots"
   ]
  },
  {
   "cell_type": "code",
   "execution_count": 6,
   "id": "99dc91d6",
   "metadata": {},
   "outputs": [],
   "source": [
    "# Plots and visualizations\n",
    "# ndvi.plot() # Visualize NDVI"
   ]
  },
  {
   "cell_type": "markdown",
   "id": "92093d2e",
   "metadata": {},
   "source": [
    "# Save results"
   ]
  },
  {
   "cell_type": "code",
   "execution_count": 7,
   "id": "f6ee2abb",
   "metadata": {},
   "outputs": [
    {
     "data": {
      "text/plain": [
       "Index(['y', 'x', 's2:processing_baseline', 'sat:relative_orbit',\n",
       "       's2:product_type', 's2:saturated_defective_pixel_percentage',\n",
       "       'proj:code', 's2:mgrs_tile', 's2:datatake_type', 'sat:orbit_state',\n",
       "       'instruments', 'constellation', 'proj:shape', 'gsd', 'proj:transform',\n",
       "       'proj:bbox', 'epsg', 'NDVI', 'geometry'],\n",
       "      dtype='object')"
      ]
     },
     "execution_count": 7,
     "metadata": {},
     "output_type": "execute_result"
    }
   ],
   "source": [
    "gdf.columns"
   ]
  },
  {
   "cell_type": "code",
   "execution_count": 9,
   "id": "b078d145",
   "metadata": {},
   "outputs": [],
   "source": [
    "#Save results and figures\n",
    "# gdf.to_file(\"../data/interim/ndvi_data.geojson\") \n",
    "gdf.to_parquet(INTERIM_DATA_DIR/\"ndvi_data.parquet\")\n",
    "gdf[[\"NDVI\",\"geometry\"]].to_file(\"../data/interim/ndvi_data.geojson\") "
   ]
  }
 ],
 "metadata": {
  "kernelspec": {
   "display_name": "reallocate-ai",
   "language": "python",
   "name": "python3"
  },
  "language_info": {
   "codemirror_mode": {
    "name": "ipython",
    "version": 3
   },
   "file_extension": ".py",
   "mimetype": "text/x-python",
   "name": "python",
   "nbconvert_exporter": "python",
   "pygments_lexer": "ipython3",
   "version": "3.11.11"
  }
 },
 "nbformat": 4,
 "nbformat_minor": 5
}
