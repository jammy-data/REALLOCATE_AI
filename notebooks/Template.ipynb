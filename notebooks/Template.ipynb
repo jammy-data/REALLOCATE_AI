{
 "cells": [
  {
   "cell_type": "markdown",
   "id": "eff96419",
   "metadata": {},
   "source": [
    "# Config"
   ]
  },
  {
   "cell_type": "code",
   "execution_count": 6,
   "id": "13a77f1a",
   "metadata": {},
   "outputs": [],
   "source": [
    "# Libraries\n",
    "from utils.utils import save_fig"
   ]
  },
  {
   "cell_type": "code",
   "execution_count": null,
   "id": "9f59e1d0",
   "metadata": {
    "tags": [
     "parameters"
    ]
   },
   "outputs": [],
   "source": [
    "# Params\n",
    "DATA = \"../data/raw/\"\n",
    "FIGURES = \"../figures/\"\n",
    "RESULTS = \"../data/processed/\"\n",
    "CITY = \"barcelona\"\n"
   ]
  },
  {
   "cell_type": "markdown",
   "id": "a845f693",
   "metadata": {},
   "source": [
    "# Load data"
   ]
  },
  {
   "cell_type": "code",
   "execution_count": null,
   "id": "94f2cc2c",
   "metadata": {},
   "outputs": [],
   "source": []
  },
  {
   "cell_type": "markdown",
   "id": "fc2bb888",
   "metadata": {},
   "source": [
    "# Data management (Code)"
   ]
  },
  {
   "cell_type": "code",
   "execution_count": 2,
   "id": "4c250296",
   "metadata": {},
   "outputs": [],
   "source": [
    "#Main body of code"
   ]
  },
  {
   "cell_type": "markdown",
   "id": "8ec8f5b5",
   "metadata": {},
   "source": [
    "# Plots"
   ]
  },
  {
   "cell_type": "code",
   "execution_count": 3,
   "id": "99dc91d6",
   "metadata": {},
   "outputs": [],
   "source": [
    "# Plots and visualizations"
   ]
  },
  {
   "cell_type": "markdown",
   "id": "92093d2e",
   "metadata": {},
   "source": [
    "# Save results"
   ]
  },
  {
   "cell_type": "code",
   "execution_count": 5,
   "id": "b078d145",
   "metadata": {},
   "outputs": [],
   "source": [
    "#Save results and figures"
   ]
  }
 ],
 "metadata": {
  "kernelspec": {
   "display_name": "mobility-vcity",
   "language": "python",
   "name": "python3"
  },
  "language_info": {
   "codemirror_mode": {
    "name": "ipython",
    "version": 3
   },
   "file_extension": ".py",
   "mimetype": "text/x-python",
   "name": "python",
   "nbconvert_exporter": "python",
   "pygments_lexer": "ipython3",
   "version": "3.13.2"
  }
 },
 "nbformat": 4,
 "nbformat_minor": 5
}
