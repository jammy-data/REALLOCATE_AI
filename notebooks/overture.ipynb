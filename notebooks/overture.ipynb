{
 "cells": [
  {
   "cell_type": "markdown",
   "id": "19e4367c",
   "metadata": {},
   "source": [
    "## extracting overture data using the API"
   ]
  },
  {
   "cell_type": "code",
   "execution_count": 12,
   "id": "be45e03a",
   "metadata": {},
   "outputs": [
    {
     "name": "stdout",
     "output_type": "stream",
     "text": [
      "                                            filename\n",
      "0  s3://overturemaps-us-west-2/release/2025-10-22...\n",
      "1  s3://overturemaps-us-west-2/release/2025-10-22...\n",
      "2  s3://overturemaps-us-west-2/release/2025-10-22...\n",
      "3  s3://overturemaps-us-west-2/release/2025-10-22...\n",
      "4  s3://overturemaps-us-west-2/release/2025-10-22...\n",
      "5  s3://overturemaps-us-west-2/release/2025-10-22...\n",
      "6  s3://overturemaps-us-west-2/release/2025-10-22...\n",
      "7  s3://overturemaps-us-west-2/release/2025-10-22...\n",
      "8  s3://overturemaps-us-west-2/release/2025-10-22...\n",
      "9  s3://overturemaps-us-west-2/release/2025-10-22...\n"
     ]
    }
   ],
   "source": [
    "import duckdb\n",
    "\n",
    "duckdb.install_extension('httpfs')\n",
    "duckdb.load_extension('httpfs')\n",
    "\n",
    "duckdb.sql(\"\"\"\n",
    "SET s3_region='us-west-2';\n",
    "SET s3_access_key_id='';\n",
    "SET s3_secret_access_key='';\n",
    "SET s3_session_token='';\n",
    "SET s3_url_style='path';\n",
    "SET s3_use_ssl=true;\n",
    "\"\"\")\n",
    "\n",
    "# Try to read file names from the public Overture S3 bucket\n",
    "df_files = duckdb.sql(\"\"\"\n",
    "SELECT DISTINCT filename\n",
    "FROM read_parquet(\n",
    "    's3://overturemaps-us-west-2/release/2025-10-22.0/theme=base/type=infrastructure/*.parquet',\n",
    "    filename=true\n",
    ")\n",
    "LIMIT 10;\n",
    "\"\"\").df()\n",
    "\n",
    "print(df_files)\n"
   ]
  },
  {
   "cell_type": "code",
   "execution_count": null,
   "id": "6a147a9c",
   "metadata": {},
   "outputs": [],
   "source": []
  }
 ],
 "metadata": {
  "language_info": {
   "name": "python"
  }
 },
 "nbformat": 4,
 "nbformat_minor": 5
}
